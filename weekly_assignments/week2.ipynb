{
 "cells": [
  {
   "cell_type": "markdown",
   "id": "74a85c2e-9b9e-405f-b942-4b2bad8ae0f6",
   "metadata": {},
   "source": [
    "# Week 2 assignments\n",
    "\n",
    "***\n"
   ]
  },
  {
   "cell_type": "markdown",
   "id": "0fde01ea-4ff4-41f6-9211-5f96bdd2e896",
   "metadata": {},
   "source": [
    "This workbook will build on Fishers' lady tasting tea thoery.  Different combinations will be explored to produce the probability of randomly selecting the correct cups is less than or equal to 1%.\n",
    "\n",
    "Further, 'scipy.stats.fisher_exact' package will be explored in order to simulate the experiment.\n",
    "\n",
    "***"
   ]
  },
  {
   "cell_type": "markdown",
   "id": "679d37d7-d781-4d07-8ca2-7d915ce12a8d",
   "metadata": {},
   "source": [
    "<br>\n",
    "\n",
    "## Exercise 1. \n",
    "\n",
    "\n",
    "1. Calculate the minimum number of cups of tea required to ensure the probability of randomly selecting the correct cups is less than or equal to 1%.\n",
    "\n",
    "2. How many would be required if you were to let the taster get one cup wrong while maintaining the 1% threshold?\n"
   ]
  },
  {
   "cell_type": "markdown",
   "id": "19262a40-fa69-4cc8-bc00-feb14ccb41d1",
   "metadata": {},
   "source": [
    "<br>\n",
    "\n",
    "### Question 1"
   ]
  },
  {
   "cell_type": "code",
   "execution_count": 31,
   "id": "354fc43c-d816-4d02-ad2b-05bb97a5db4b",
   "metadata": {},
   "outputs": [],
   "source": [
    "# Importing the math module.\n",
    "import math"
   ]
  },
  {
   "cell_type": "markdown",
   "id": "b2f0d7ff-39da-4aac-b13d-c22ab2c565ae",
   "metadata": {},
   "source": [
    "<br>\n",
    "\n",
    "I will use the comb function from the math module to determine the number of different combinations that can be generated from a range of items. "
   ]
  },
  {
   "cell_type": "code",
   "execution_count": 27,
   "id": "663ef8f3-f463-4ae3-9676-d67b1d30188e",
   "metadata": {},
   "outputs": [
    {
     "data": {
      "text/plain": [
       "126"
      ]
     },
     "execution_count": 27,
     "metadata": {},
     "output_type": "execute_result"
    }
   ],
   "source": [
    "# From 9 items, how many different ways can we make up a bunch of 4. \n",
    "comb = math.comb(9,4)\n",
    "comb"
   ]
  },
  {
   "cell_type": "code",
   "execution_count": 28,
   "id": "b8f4643e-c6e9-46ff-a064-417535d0a55c",
   "metadata": {},
   "outputs": [
    {
     "data": {
      "text/plain": [
       "0.7936507936507936"
      ]
     },
     "execution_count": 28,
     "metadata": {},
     "output_type": "execute_result"
    }
   ],
   "source": [
    "# Divide into 1 and multiply by 100 to get the percentage. \n",
    "1/comb * 100"
   ]
  },
  {
   "cell_type": "markdown",
   "id": "e1f9b741-baf1-4ffc-a546-78e0fbd98079",
   "metadata": {},
   "source": [
    "<br>\n",
    "\n",
    "### Question 2\n",
    "\n",
    "With 10 cups of tea on the table (5 made with milk first and 5 made with tea first), the taster needs to split the cups into two sets of 5.  The taster needs to guess at least 4 right.  That leaves room for one of the cups in the with tea first bunch to be incorrect. "
   ]
  },
  {
   "cell_type": "code",
   "execution_count": 35,
   "id": "5c54d717-10a1-4a00-afd0-b9bf32a58d87",
   "metadata": {},
   "outputs": [
    {
     "data": {
      "text/plain": [
       "210"
      ]
     },
     "execution_count": 35,
     "metadata": {},
     "output_type": "execute_result"
    }
   ],
   "source": [
    "# Allowing one incorrect answer\n",
    "comb2 = math.comb(10,4)\n",
    "comb2"
   ]
  },
  {
   "cell_type": "code",
   "execution_count": 36,
   "id": "58286a30-a63b-4c7a-bc5e-f2abbf3e8d39",
   "metadata": {},
   "outputs": [
    {
     "data": {
      "text/plain": [
       "0.4761904761904762"
      ]
     },
     "execution_count": 36,
     "metadata": {},
     "output_type": "execute_result"
    }
   ],
   "source": [
    "(1/comb2)*100"
   ]
  },
  {
   "cell_type": "markdown",
   "id": "4154663f-4ddb-48f0-a54f-c9354215b382",
   "metadata": {},
   "source": [
    "<br>\n",
    "\n",
    "In testing the null hypothesis, the taster will have 0.47% chance of making the correct guess on their first attempt."
   ]
  },
  {
   "cell_type": "markdown",
   "id": "eb1d1218-88e3-4f46-9d9c-08f0eec5ad3b",
   "metadata": {},
   "source": [
    "***\n",
    "\n",
    "<br>\n",
    "\n",
    "## Excerise 2.\n",
    "\n",
    "1. Use scipy's version of [Fisher's exact](https://docs.scipy.org/doc/scipy/reference/generated/scipy.stats.fisher_exact.html) test to simulate the Lady Tasting Tea problem."
   ]
  },
  {
   "cell_type": "code",
   "execution_count": 41,
   "id": "8f108d04-b4f7-466a-b897-622a56ce8637",
   "metadata": {},
   "outputs": [],
   "source": [
    "from scipy.stats import fisher_exact"
   ]
  },
  {
   "cell_type": "code",
   "execution_count": 171,
   "id": "6483b78d-d0a7-4b99-9dc8-93ba39ade527",
   "metadata": {},
   "outputs": [],
   "source": [
    "table = [[4 ,0],  [0 , 4]]"
   ]
  },
  {
   "cell_type": "markdown",
   "id": "4554010f-b19d-4905-b396-5b7a2b0339a4",
   "metadata": {},
   "source": [
    "<br>\n",
    "<br> \n",
    "\n",
    "Columns represent the true order, and rows represent the lady's choice.   The table demonstrates that the lady made all the correct choices. [1]\n",
    "\n",
    "|  | Milk first | Tea first|\n",
    "| --- | --- | --- |\n",
    "| **Milk first** | 4 | 0 |\n",
    "| **Tea first** | 0 | 4|\n"
   ]
  },
  {
   "cell_type": "code",
   "execution_count": 183,
   "id": "01910463-763c-466c-818a-d9c4e59dad3f",
   "metadata": {},
   "outputs": [
    {
     "data": {
      "text/plain": [
       "0.014285714285714268"
      ]
     },
     "execution_count": 183,
     "metadata": {},
     "output_type": "execute_result"
    }
   ],
   "source": [
    "# Amending the alternative to \"greater\"\n",
    "x, p = fisher_exact(table, alternative='greater')\n",
    "p"
   ]
  },
  {
   "cell_type": "code",
   "execution_count": 184,
   "id": "04ec77c6-7d69-46fb-9597-b2df5f4f7950",
   "metadata": {},
   "outputs": [
    {
     "data": {
      "text/plain": [
       "'There is a 1.43% chance of the lady guessing correctly the first time'"
      ]
     },
     "execution_count": 184,
     "metadata": {},
     "output_type": "execute_result"
    }
   ],
   "source": [
    "# Formating the output to percentage and printing in sentence. \n",
    "percentage = \"There is a {:.2%} chance of the lady guessing correctly the first time\".format(p)\n",
    "percentage"
   ]
  },
  {
   "cell_type": "markdown",
   "id": "25e6fb17-ab4e-463f-87e6-3c23fce393cb",
   "metadata": {},
   "source": [
    "<br>\n",
    "\n",
    "***\n",
    "\n",
    "# References\n",
    "\n",
    "1. https://brainder.org/2015/08/23/the-lady-tasting-tea-and-fishers-exact-test/\n"
   ]
  },
  {
   "cell_type": "markdown",
   "id": "19c10dcd-2baa-49ea-b979-055b555dee95",
   "metadata": {},
   "source": [
    "***\n",
    "\n",
    "# End"
   ]
  }
 ],
 "metadata": {
  "kernelspec": {
   "display_name": "Python 3 (ipykernel)",
   "language": "python",
   "name": "python3"
  },
  "language_info": {
   "codemirror_mode": {
    "name": "ipython",
    "version": 3
   },
   "file_extension": ".py",
   "mimetype": "text/x-python",
   "name": "python",
   "nbconvert_exporter": "python",
   "pygments_lexer": "ipython3",
   "version": "3.9.12"
  }
 },
 "nbformat": 4,
 "nbformat_minor": 5
}
