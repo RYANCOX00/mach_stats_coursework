{
 "cells": [
  {
   "cell_type": "markdown",
   "id": "b64930f3-fa53-4d59-8e00-949e8a15fd33",
   "metadata": {},
   "source": [
    "# Keras - Time-Series Anomaly Detection"
   ]
  },
  {
   "cell_type": "markdown",
   "id": "17c7cddd-4756-4b00-b402-2ed1e1beef2c",
   "metadata": {},
   "source": [
    "## Introduction\n",
    "\n",
    "Introduce this notebook, set context for what the reader can expect."
   ]
  },
  {
   "cell_type": "code",
   "execution_count": null,
   "id": "d3165586-55ad-40b7-8995-884408036b45",
   "metadata": {},
   "outputs": [],
   "source": []
  },
  {
   "cell_type": "code",
   "execution_count": null,
   "id": "c0f49765-e3b7-4d9a-acf6-b1647a09129d",
   "metadata": {},
   "outputs": [],
   "source": []
  },
  {
   "cell_type": "markdown",
   "id": "5e7add5d-743a-4121-8a45-d7ed734641b5",
   "metadata": {},
   "source": [
    "## Keras Team"
   ]
  },
  {
   "cell_type": "code",
   "execution_count": null,
   "id": "0812b614-4565-4096-9ca6-7080b2ba42b7",
   "metadata": {},
   "outputs": [],
   "source": []
  },
  {
   "cell_type": "code",
   "execution_count": null,
   "id": "3e1e72d7-1769-4605-bebc-0b35fc0edc13",
   "metadata": {},
   "outputs": [],
   "source": []
  },
  {
   "cell_type": "markdown",
   "id": "df0475b3-d2b1-4e56-b8bf-e9598f94d865",
   "metadata": {},
   "source": [
    "## Keras Time-Series Anomaly."
   ]
  },
  {
   "cell_type": "code",
   "execution_count": null,
   "id": "26ab41e1-1e7a-4f09-8b9f-4ea85a246eb5",
   "metadata": {},
   "outputs": [],
   "source": []
  },
  {
   "cell_type": "code",
   "execution_count": null,
   "id": "731f518f-a877-46d8-80d1-25ec23f14a4d",
   "metadata": {},
   "outputs": [],
   "source": []
  },
  {
   "cell_type": "markdown",
   "id": "b7be29c7-249a-48e3-a973-e860748d9d1e",
   "metadata": {},
   "source": [
    "## Conclusion\n",
    "\n",
    "Suggest improvements I could make to the analysis in this workbook."
   ]
  },
  {
   "cell_type": "markdown",
   "id": "21dd1b2c-4073-4e0d-8966-4f73528bb0dc",
   "metadata": {},
   "source": [
    "***\n",
    "\n",
    "## References\n",
    "\n",
    "\n",
    "\n",
    "- \n",
    "- \n",
    "- \n",
    "- \n"
   ]
  },
  {
   "cell_type": "markdown",
   "id": "6ad606da-81b6-4014-b219-001ac4761587",
   "metadata": {},
   "source": [
    "## End\n",
    "***"
   ]
  }
 ],
 "metadata": {
  "kernelspec": {
   "display_name": "Python 3 (ipykernel)",
   "language": "python",
   "name": "python3"
  },
  "language_info": {
   "codemirror_mode": {
    "name": "ipython",
    "version": 3
   },
   "file_extension": ".py",
   "mimetype": "text/x-python",
   "name": "python",
   "nbconvert_exporter": "python",
   "pygments_lexer": "ipython3",
   "version": "3.9.12"
  }
 },
 "nbformat": 4,
 "nbformat_minor": 5
}
